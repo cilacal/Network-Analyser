{
 "cells": [
  {
   "cell_type": "markdown",
   "metadata": {},
   "source": [
    "# Network_analyser"
   ]
  },
  {
   "cell_type": "markdown",
   "metadata": {},
   "source": [
    "## Imports"
   ]
  },
  {
   "cell_type": "code",
   "execution_count": 2,
   "metadata": {},
   "outputs": [],
   "source": [
    "import pandas as pd\n",
    "import networkx as nx\n",
    "import matplotlib.pyplot as plt\n",
    "import pickle\n",
    "import numpy as np\n",
    "import matplotlib\n",
    "matplotlib.style.use('ggplot')"
   ]
  },
  {
   "cell_type": "markdown",
   "metadata": {},
   "source": [
    "## Network reader"
   ]
  },
  {
   "cell_type": "markdown",
   "metadata": {},
   "source": [
    "### Read to pandas"
   ]
  },
  {
   "cell_type": "code",
   "execution_count": 3,
   "metadata": {},
   "outputs": [],
   "source": [
    "SOURCE = ''\n",
    "TARGET = ''\n",
    "LINK_WEIGHT = ''\n",
    "DIRECTION= ''\n",
    "def set_names(source, target, link_weight, direction):\n",
    "    global SOURCE\n",
    "    global TARGET\n",
    "    global LINK_WEIGHT\n",
    "    global DIRECTION\n",
    "    SOURCE = source\n",
    "    TARGET = target\n",
    "    LINK_WEIGHT = link_weight\n",
    "    DIRECTION = direction"
   ]
  },
  {
   "cell_type": "code",
   "execution_count": 4,
   "metadata": {},
   "outputs": [],
   "source": [
    "def read(file_name, sheet_name, project = True): \n",
    "    df = pd.read_excel(file_name, sheet_name = sheet_name)\n",
    "    df.head()\n",
    "    df = df.rename(columns={SOURCE: 'source', TARGET: 'target', LINK_WEIGHT : 'weight', DIRECTION : 'direction'})\n",
    "    if project:\n",
    "        return df[['source', 'target', 'weight', 'direction']]\n",
    "    return df"
   ]
  },
  {
   "cell_type": "markdown",
   "metadata": {},
   "source": [
    "### Modify edge weights"
   ]
  },
  {
   "cell_type": "code",
   "execution_count": 5,
   "metadata": {},
   "outputs": [],
   "source": [
    "def invert(pd):\n",
    "    maxi = max(pd['weight'])\n",
    "    pd = pd.assign(weight = maxi - pd['weight'])\n",
    "    return pd"
   ]
  },
  {
   "cell_type": "markdown",
   "metadata": {},
   "source": [
    "### Convert to directed network"
   ]
  },
  {
   "cell_type": "code",
   "execution_count": 6,
   "metadata": {},
   "outputs": [],
   "source": [
    "def convert(df):\n",
    "    is_zero = df['direction'] == 0\n",
    "    undirected_part = df[is_zero]\n",
    "    undirected_part.rename(columns={'source': 'target', 'target': 'source'})\n",
    "    directed = df.append(undirected_part)\n",
    "    return directed[['source', 'target', 'weight']]"
   ]
  },
  {
   "cell_type": "markdown",
   "metadata": {},
   "source": [
    "## Generate network"
   ]
  },
  {
   "cell_type": "code",
   "execution_count": 7,
   "metadata": {},
   "outputs": [],
   "source": [
    "def generateNetwork(df):\n",
    "    MDG = nx.from_pandas_edgelist(df, 'source', 'target', edge_attr = 'weight')\n",
    "    return MDG"
   ]
  },
  {
   "cell_type": "markdown",
   "metadata": {},
   "source": [
    "### Filter non-connected components"
   ]
  },
  {
   "cell_type": "code",
   "execution_count": 8,
   "metadata": {},
   "outputs": [],
   "source": [
    "def filterComponents(MDG):\n",
    "    components = [c for c in nx.connected_components(MDG)]\n",
    "    \n",
    "    a = np.argmax([len(c) for c in components])\n",
    "    \n",
    "    invalid_nodes = []\n",
    "    for i in range(0, len(components)):\n",
    "        if i != a:\n",
    "            c_set = components[i]\n",
    "            for node in c_set:\n",
    "                invalid_nodes.append(node)\n",
    "    \n",
    "    for node in invalid_nodes:\n",
    "        MDG.remove_node(node)\n",
    "    return MDG"
   ]
  },
  {
   "cell_type": "markdown",
   "metadata": {},
   "source": [
    "## Analyse tools"
   ]
  },
  {
   "cell_type": "markdown",
   "metadata": {},
   "source": [
    "### Plot function"
   ]
  },
  {
   "cell_type": "code",
   "execution_count": 9,
   "metadata": {},
   "outputs": [],
   "source": [
    "def plotHistogram(array, bins, title, xlabel, ylabel):\n",
    "    fig, ax = plt.subplots()\n",
    "    ax.hist(array, bins)\n",
    "    ax.set_title(title)\n",
    "    ax.set_xlabel(xlabel)\n",
    "    ax.set_ylabel(ylabel)\n",
    "    plt.show()"
   ]
  },
  {
   "cell_type": "code",
   "execution_count": 10,
   "metadata": {},
   "outputs": [],
   "source": [
    "def plotHistogram_below(array, bins, title, xlabel, ylabel, below):\n",
    "    fig, ax = plt.subplots()\n",
    "    ax.hist(array[array < below], bins)\n",
    "    ax.set_title(title)\n",
    "    ax.set_xlabel(xlabel)\n",
    "    ax.set_ylabel(ylabel)\n",
    "    plt.show()"
   ]
  },
  {
   "cell_type": "markdown",
   "metadata": {},
   "source": [
    "### Distribution of degrees"
   ]
  },
  {
   "cell_type": "code",
   "execution_count": 11,
   "metadata": {},
   "outputs": [],
   "source": [
    "def degreeDistribution(MDG, bins = None):\n",
    "    degrees = [y for x, y, in MDG.degree]\n",
    "    print('Distribution of degrees:')\n",
    "    plt.hist(degrees, bins)\n",
    "    plotHistogram(degrees, bins, title = 'Distribution of degrees', \n",
    "                  xlabel = 'Degrees', ylabel = 'Degree values in bin')"
   ]
  },
  {
   "cell_type": "markdown",
   "metadata": {},
   "source": [
    "### Betweeness centrality"
   ]
  },
  {
   "cell_type": "markdown",
   "metadata": {},
   "source": [
    "#### Distribution (nodes)"
   ]
  },
  {
   "cell_type": "code",
   "execution_count": 12,
   "metadata": {},
   "outputs": [],
   "source": [
    "def bcDistributionNodes(MDG, bins = None, normalize = False, below = None, weight_ = None):\n",
    "    bc = nx.betweenness_centrality(MDG, normalized = normalize, weight = weight_).values()\n",
    "    bc = np.fromiter(bc, dtype = float)\n",
    "    print('Avarage:', np.mean(bc))\n",
    "    if below == None:\n",
    "        plotHistogram(bc, bins, title = 'Distribution of betweenness centrality with nodes', \n",
    "                      xlabel = 'Betweeness', ylabel = 'Number of betweenness values in bin')\n",
    "    else:\n",
    "        plotHistogram_below(bc, bins, title = 'Distribution of betweenness centrality with nodes', \n",
    "                      xlabel = 'Betweeness', ylabel = 'Number of betweenness values in bin', below = below)"
   ]
  },
  {
   "cell_type": "markdown",
   "metadata": {},
   "source": [
    "#### Distribution (edges)"
   ]
  },
  {
   "cell_type": "code",
   "execution_count": 13,
   "metadata": {},
   "outputs": [],
   "source": [
    "def bcDistributionEdges(MDG, bins = None, normalize = False, below = None, weight_ = None):\n",
    "    bc = nx.edge_betweenness_centrality(MDG, normalized = normalize, weight = weight_).values()\n",
    "    bc = np.fromiter(bc, dtype = float)\n",
    "    print('Avarage:', np.mean(bc))\n",
    "    if below == None:\n",
    "        plotHistogram(bc, bins, title = 'Distribution of betweenness centrality with edges', \n",
    "                      xlabel = 'Betweeness', ylabel = 'Number of betweenness values in bin')\n",
    "    else:\n",
    "        plotHistogram_below(bc, bins, title = 'Distribution of betweenness centrality with nodes', \n",
    "                      xlabel = 'Betweeness', ylabel = 'Number of betweenness values in bin', below = below)"
   ]
  },
  {
   "cell_type": "markdown",
   "metadata": {},
   "source": [
    "### Shortest paths"
   ]
  },
  {
   "cell_type": "markdown",
   "metadata": {},
   "source": [
    "#### Avarage"
   ]
  },
  {
   "cell_type": "code",
   "execution_count": 14,
   "metadata": {},
   "outputs": [],
   "source": [
    "def avarageShortestPathLength(MDG, method_ = 'bellman-ford', weight_ = None):\n",
    "    print('Avarage of shortest path length:', \n",
    "          nx.average_shortest_path_length(MDG, method = method_, weight = weight_))"
   ]
  },
  {
   "cell_type": "markdown",
   "metadata": {},
   "source": [
    "#### Distribution"
   ]
  },
  {
   "cell_type": "code",
   "execution_count": 15,
   "metadata": {},
   "outputs": [],
   "source": [
    "def distributionShortestPaths(MDG, bins = None, weight_ = None, method_ = 'bellman-ford'):\n",
    "    lengths = nx.shortest_path_length(MDG, weight = weight_, method = method_)\n",
    "    path = []\n",
    "    path = [c for c in lengths]\n",
    "    \n",
    "    length = []\n",
    "    for name, l in path:\n",
    "        for key in l:\n",
    "            length.append(l[key])\n",
    "            \n",
    "    length = np.array(length)\n",
    "    plotHistogram(length, bins, title = 'Distribution of shortest path lengths', \n",
    "                  xlabel = 'Length', ylabel ='Number of length values in bin')\n",
    "    \n",
    "    "
   ]
  },
  {
   "cell_type": "markdown",
   "metadata": {},
   "source": [
    "### Diameter"
   ]
  },
  {
   "cell_type": "code",
   "execution_count": 16,
   "metadata": {},
   "outputs": [],
   "source": [
    "def diameter(MDG):\n",
    "     print('Diameter:', nx.diameter(MDG))"
   ]
  },
  {
   "cell_type": "code",
   "execution_count": 17,
   "metadata": {},
   "outputs": [],
   "source": [
    "def diameterWeighted(MDG, weight_ , method_ = 'bellman-ford'):\n",
    "    lengths = nx.shortest_path_length(MDG, weight = weight_, method = method_)\n",
    "    path = []\n",
    "    path = [c for c in lengths]\n",
    "    \n",
    "    length = []\n",
    "    for name, l in path:\n",
    "        for key in l:\n",
    "            length.append(l[key])\n",
    "            \n",
    "    length = np.array(length)\n",
    "    print('Weighted diameter:', np.max(length))"
   ]
  },
  {
   "cell_type": "markdown",
   "metadata": {},
   "source": [
    "## Init"
   ]
  },
  {
   "cell_type": "markdown",
   "metadata": {},
   "source": [
    "### Create network"
   ]
  },
  {
   "cell_type": "code",
   "execution_count": 18,
   "metadata": {},
   "outputs": [],
   "source": [
    "set_names('Uniprot_source', 'Uniprot_target', 'Link weight (sensitive)', 'consensus_direction' )\n",
    "sensitive = read('omnipath_cytoscape.xlsx', sheet_name = 'Sensitive.')\n",
    "\n",
    "inverted_s = invert(sensitive)\n",
    "directed_s = convert(inverted_s)\n",
    "\n",
    "MDG_sensitive = nx.MultiDiGraph()\n",
    "MDG_sensitive = generateNetwork(directed_s)\n",
    "MDG_sensitve = filterComponents(MDG_sensitive)"
   ]
  },
  {
   "cell_type": "code",
   "execution_count": 19,
   "metadata": {},
   "outputs": [],
   "source": [
    "set_names('Source', 'Target', 'link weight (healthy)', 'consensus_direction' )\n",
    "normal = read('omnipath_normal_cytoscape.xlsx', sheet_name = 'network')\n",
    "\n",
    "inverted_n = invert(normal)\n",
    "directed_n = convert(inverted_n)\n",
    "\n",
    "MDG_normal = nx.MultiDiGraph()\n",
    "MDG_normal = generateNetwork(directed_n)\n",
    "MDG_normal = filterComponents(MDG_normal)"
   ]
  },
  {
   "cell_type": "code",
   "execution_count": 20,
   "metadata": {},
   "outputs": [],
   "source": [
    "set_names('Name_source', 'Name_target', 'Link weight (resistent)', 'consensus_direction' )\n",
    "resistant = read('omnipath_cytoscape.xlsx', sheet_name = 'Resistant.')\n",
    "\n",
    "inverted_r = invert(resistant)\n",
    "directed_r = convert(inverted_r)\n",
    "\n",
    "\n",
    "MDG_resistant = nx.MultiDiGraph()\n",
    "MDG_resistant = generateNetwork(directed_r)\n",
    "MDG_resistant = filterComponents(MDG_resistant)"
   ]
  },
  {
   "cell_type": "code",
   "execution_count": 21,
   "metadata": {},
   "outputs": [
    {
     "data": {
      "text/plain": [
       "1284"
      ]
     },
     "execution_count": 21,
     "metadata": {},
     "output_type": "execute_result"
    }
   ],
   "source": [
    "len(MDG_resistant)"
   ]
  },
  {
   "cell_type": "markdown",
   "metadata": {},
   "source": [
    "### Analyse"
   ]
  },
  {
   "cell_type": "code",
   "execution_count": 26,
   "metadata": {},
   "outputs": [
    {
     "data": {
      "image/png": "[encoded data removed]",
      "text/plain": [
       "<Figure size 432x288 with 1 Axes>"
      ]
     },
     "metadata": {},
     "output_type": "display_data"
    },
    {
     "data": {
      "image/png": "[encoded data removed]",
      "text/plain": [
       "<Figure size 432x288 with 1 Axes>"
      ]
     },
     "metadata": {},
     "output_type": "display_data"
    },
    {
     "data": {
      "image/png": "[encoded data removed]",
      "text/plain": [
       "<Figure size 432x288 with 1 Axes>"
      ]
     },
     "metadata": {},
     "output_type": "display_data"
    }
   ],
   "source": [
    "distributionShortestPaths(MDG_normal, weight_ = 'weight', bins = 60)\n",
    "distributionShortestPaths(MDG_sensitive, weight_ = 'weight', bins = 60)\n",
    "distributionShortestPaths(MDG_resistant, weight_ = 'weight', bins = 60)"
   ]
  },
  {
   "cell_type": "code",
   "execution_count": 23,
   "metadata": {},
   "outputs": [
    {
     "name": "stdout",
     "output_type": "stream",
     "text": [
      "Weighted diameter: 1.686440837238416e+20\n",
      "Weighted diameter: 316751900639809.9\n",
      "Weighted diameter: 1542768097416848.8\n"
     ]
    }
   ],
   "source": [
    "diameterWeighted(MDG_normal, weight_ = 'weight')\n",
    "diameterWeighted(MDG_sensitive, weight_ = 'weight')\n",
    "diameterWeighted(MDG_resistant, weight_ = 'weight')"
   ]
  },
  {
   "cell_type": "code",
   "execution_count": 24,
   "metadata": {},
   "outputs": [
    {
     "name": "stdout",
     "output_type": "stream",
     "text": [
      "Avarage of shortest path length: 5.414176146236123e+19\n",
      "Avarage of shortest path length: 101050152758875.5\n",
      "Avarage of shortest path length: 492815398861330.4\n"
     ]
    }
   ],
   "source": [
    "avarageShortestPathLength(MDG_normal, weight_ = 'weight')\n",
    "avarageShortestPathLength(MDG_sensitive, weight_ = 'weight')\n",
    "avarageShortestPathLength(MDG_resistant, weight_ = 'weight')"
   ]
  },
  {
   "cell_type": "code",
   "execution_count": null,
   "metadata": {},
   "outputs": [],
   "source": []
  }
 ],
 "metadata": {
  "kernelspec": {
   "display_name": "Python 3",
   "language": "python",
   "name": "python3"
  },
  "language_info": {
   "codemirror_mode": {
    "name": "ipython",
    "version": 3
   },
   "file_extension": ".py",
   "mimetype": "text/x-python",
   "name": "python",
   "nbconvert_exporter": "python",
   "pygments_lexer": "ipython3",
   "version": "3.7.6"
  }
 },
 "nbformat": 4,
 "nbformat_minor": 4
}
