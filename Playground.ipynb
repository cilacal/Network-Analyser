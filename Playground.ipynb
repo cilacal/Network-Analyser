{
 "cells": [
  {
   "cell_type": "markdown",
   "metadata": {},
   "source": [
    "# Playground"
   ]
  },
  {
   "cell_type": "markdown",
   "metadata": {},
   "source": [
    "## Imports"
   ]
  },
  {
   "cell_type": "code",
   "execution_count": 1,
   "metadata": {},
   "outputs": [],
   "source": [
    "import pandas as pd\n",
    "import networkx as nx\n",
    "import matplotlib.pyplot as plt\n",
    "import pickle\n",
    "import numpy as np"
   ]
  },
  {
   "cell_type": "markdown",
   "metadata": {},
   "source": [
    "## read xls"
   ]
  },
  {
   "cell_type": "code",
   "execution_count": 2,
   "metadata": {},
   "outputs": [],
   "source": [
    "df = pd.read_excel('omnipath_normal_cytoscape.xlsx')"
   ]
  },
  {
   "cell_type": "code",
   "execution_count": 3,
   "metadata": {},
   "outputs": [
    {
     "data": {
      "text/html": [
       "<div>\n",
       "<style scoped>\n",
       "    .dataframe tbody tr th:only-of-type {\n",
       "        vertical-align: middle;\n",
       "    }\n",
       "\n",
       "    .dataframe tbody tr th {\n",
       "        vertical-align: top;\n",
       "    }\n",
       "\n",
       "    .dataframe thead th {\n",
       "        text-align: right;\n",
       "    }\n",
       "</style>\n",
       "<table border=\"1\" class=\"dataframe\">\n",
       "  <thead>\n",
       "    <tr style=\"text-align: right;\">\n",
       "      <th></th>\n",
       "      <th>Source</th>\n",
       "      <th>Uniprot_source</th>\n",
       "      <th>Target</th>\n",
       "      <th>Uniprot_target</th>\n",
       "      <th>link weight (healthy)</th>\n",
       "      <th>consensus_direction</th>\n",
       "      <th>consensus_inhibition</th>\n",
       "      <th>consensus_stimulation</th>\n",
       "      <th>link_weight_n_entopt</th>\n",
       "    </tr>\n",
       "  </thead>\n",
       "  <tbody>\n",
       "    <tr>\n",
       "      <th>0</th>\n",
       "      <td>HSPB1</td>\n",
       "      <td>P04792</td>\n",
       "      <td>ACTC1</td>\n",
       "      <td>P68032</td>\n",
       "      <td>1.298498e+19</td>\n",
       "      <td>0</td>\n",
       "      <td>0</td>\n",
       "      <td>0</td>\n",
       "      <td>1.000000e+00</td>\n",
       "    </tr>\n",
       "    <tr>\n",
       "      <th>1</th>\n",
       "      <td>ACTC1</td>\n",
       "      <td>P68032</td>\n",
       "      <td>CFL1</td>\n",
       "      <td>P23528</td>\n",
       "      <td>1.040283e+19</td>\n",
       "      <td>1</td>\n",
       "      <td>0</td>\n",
       "      <td>0</td>\n",
       "      <td>8.011429e-01</td>\n",
       "    </tr>\n",
       "    <tr>\n",
       "      <th>2</th>\n",
       "      <td>CFL1</td>\n",
       "      <td>P23528</td>\n",
       "      <td>ACTC1</td>\n",
       "      <td>P68032</td>\n",
       "      <td>1.040283e+19</td>\n",
       "      <td>1</td>\n",
       "      <td>1</td>\n",
       "      <td>0</td>\n",
       "      <td>8.011429e-01</td>\n",
       "    </tr>\n",
       "    <tr>\n",
       "      <th>3</th>\n",
       "      <td>ACTC1</td>\n",
       "      <td>P68032</td>\n",
       "      <td>ACTN4</td>\n",
       "      <td>O43707</td>\n",
       "      <td>5.104953e+18</td>\n",
       "      <td>1</td>\n",
       "      <td>0</td>\n",
       "      <td>0</td>\n",
       "      <td>3.931429e-01</td>\n",
       "    </tr>\n",
       "    <tr>\n",
       "      <th>4</th>\n",
       "      <td>ACTC1</td>\n",
       "      <td>P68032</td>\n",
       "      <td>ACTR2</td>\n",
       "      <td>P61160</td>\n",
       "      <td>2.449906e+18</td>\n",
       "      <td>1</td>\n",
       "      <td>0</td>\n",
       "      <td>0</td>\n",
       "      <td>1.886723e-01</td>\n",
       "    </tr>\n",
       "    <tr>\n",
       "      <th>...</th>\n",
       "      <td>...</td>\n",
       "      <td>...</td>\n",
       "      <td>...</td>\n",
       "      <td>...</td>\n",
       "      <td>...</td>\n",
       "      <td>...</td>\n",
       "      <td>...</td>\n",
       "      <td>...</td>\n",
       "      <td>...</td>\n",
       "    </tr>\n",
       "    <tr>\n",
       "      <th>5184</th>\n",
       "      <td>MCM6</td>\n",
       "      <td>Q14566</td>\n",
       "      <td>MCM3</td>\n",
       "      <td>P25205</td>\n",
       "      <td>1.066165e+10</td>\n",
       "      <td>1</td>\n",
       "      <td>0</td>\n",
       "      <td>0</td>\n",
       "      <td>8.210753e-10</td>\n",
       "    </tr>\n",
       "    <tr>\n",
       "      <th>5185</th>\n",
       "      <td>MCM3</td>\n",
       "      <td>P25205</td>\n",
       "      <td>MCM6</td>\n",
       "      <td>Q14566</td>\n",
       "      <td>1.066165e+10</td>\n",
       "      <td>1</td>\n",
       "      <td>0</td>\n",
       "      <td>0</td>\n",
       "      <td>8.210753e-10</td>\n",
       "    </tr>\n",
       "    <tr>\n",
       "      <th>5186</th>\n",
       "      <td>MCM2</td>\n",
       "      <td>P49736</td>\n",
       "      <td>MCM6</td>\n",
       "      <td>Q14566</td>\n",
       "      <td>1.066165e+10</td>\n",
       "      <td>1</td>\n",
       "      <td>0</td>\n",
       "      <td>0</td>\n",
       "      <td>8.210753e-10</td>\n",
       "    </tr>\n",
       "    <tr>\n",
       "      <th>5187</th>\n",
       "      <td>MCM6</td>\n",
       "      <td>Q14566</td>\n",
       "      <td>MCM2</td>\n",
       "      <td>P49736</td>\n",
       "      <td>1.066165e+10</td>\n",
       "      <td>1</td>\n",
       "      <td>0</td>\n",
       "      <td>0</td>\n",
       "      <td>8.210753e-10</td>\n",
       "    </tr>\n",
       "    <tr>\n",
       "      <th>5188</th>\n",
       "      <td>MCM2</td>\n",
       "      <td>P49736</td>\n",
       "      <td>MCM3</td>\n",
       "      <td>P25205</td>\n",
       "      <td>4.595755e+09</td>\n",
       "      <td>1</td>\n",
       "      <td>0</td>\n",
       "      <td>0</td>\n",
       "      <td>3.539285e-10</td>\n",
       "    </tr>\n",
       "  </tbody>\n",
       "</table>\n",
       "<p>5189 rows × 9 columns</p>\n",
       "</div>"
      ],
      "text/plain": [
       "     Source Uniprot_source Target Uniprot_target  link weight (healthy)  \\\n",
       "0     HSPB1         P04792  ACTC1         P68032           1.298498e+19   \n",
       "1     ACTC1         P68032   CFL1         P23528           1.040283e+19   \n",
       "2      CFL1         P23528  ACTC1         P68032           1.040283e+19   \n",
       "3     ACTC1         P68032  ACTN4         O43707           5.104953e+18   \n",
       "4     ACTC1         P68032  ACTR2         P61160           2.449906e+18   \n",
       "...     ...            ...    ...            ...                    ...   \n",
       "5184   MCM6         Q14566   MCM3         P25205           1.066165e+10   \n",
       "5185   MCM3         P25205   MCM6         Q14566           1.066165e+10   \n",
       "5186   MCM2         P49736   MCM6         Q14566           1.066165e+10   \n",
       "5187   MCM6         Q14566   MCM2         P49736           1.066165e+10   \n",
       "5188   MCM2         P49736   MCM3         P25205           4.595755e+09   \n",
       "\n",
       "      consensus_direction  consensus_inhibition  consensus_stimulation  \\\n",
       "0                       0                     0                      0   \n",
       "1                       1                     0                      0   \n",
       "2                       1                     1                      0   \n",
       "3                       1                     0                      0   \n",
       "4                       1                     0                      0   \n",
       "...                   ...                   ...                    ...   \n",
       "5184                    1                     0                      0   \n",
       "5185                    1                     0                      0   \n",
       "5186                    1                     0                      0   \n",
       "5187                    1                     0                      0   \n",
       "5188                    1                     0                      0   \n",
       "\n",
       "      link_weight_n_entopt  \n",
       "0             1.000000e+00  \n",
       "1             8.011429e-01  \n",
       "2             8.011429e-01  \n",
       "3             3.931429e-01  \n",
       "4             1.886723e-01  \n",
       "...                    ...  \n",
       "5184          8.210753e-10  \n",
       "5185          8.210753e-10  \n",
       "5186          8.210753e-10  \n",
       "5187          8.210753e-10  \n",
       "5188          3.539285e-10  \n",
       "\n",
       "[5189 rows x 9 columns]"
      ]
     },
     "execution_count": 3,
     "metadata": {},
     "output_type": "execute_result"
    }
   ],
   "source": [
    "df"
   ]
  },
  {
   "cell_type": "code",
   "execution_count": 4,
   "metadata": {},
   "outputs": [],
   "source": [
    "uj = df[['Source', 'Target', 'link weight (healthy)', 'consensus_direction']]"
   ]
  },
  {
   "cell_type": "code",
   "execution_count": 5,
   "metadata": {},
   "outputs": [
    {
     "data": {
      "text/html": [
       "<div>\n",
       "<style scoped>\n",
       "    .dataframe tbody tr th:only-of-type {\n",
       "        vertical-align: middle;\n",
       "    }\n",
       "\n",
       "    .dataframe tbody tr th {\n",
       "        vertical-align: top;\n",
       "    }\n",
       "\n",
       "    .dataframe thead th {\n",
       "        text-align: right;\n",
       "    }\n",
       "</style>\n",
       "<table border=\"1\" class=\"dataframe\">\n",
       "  <thead>\n",
       "    <tr style=\"text-align: right;\">\n",
       "      <th></th>\n",
       "      <th>Source</th>\n",
       "      <th>Target</th>\n",
       "      <th>link weight (healthy)</th>\n",
       "      <th>consensus_direction</th>\n",
       "    </tr>\n",
       "  </thead>\n",
       "  <tbody>\n",
       "    <tr>\n",
       "      <th>0</th>\n",
       "      <td>HSPB1</td>\n",
       "      <td>ACTC1</td>\n",
       "      <td>1.298498e+19</td>\n",
       "      <td>0</td>\n",
       "    </tr>\n",
       "    <tr>\n",
       "      <th>1</th>\n",
       "      <td>ACTC1</td>\n",
       "      <td>CFL1</td>\n",
       "      <td>1.040283e+19</td>\n",
       "      <td>1</td>\n",
       "    </tr>\n",
       "    <tr>\n",
       "      <th>2</th>\n",
       "      <td>CFL1</td>\n",
       "      <td>ACTC1</td>\n",
       "      <td>1.040283e+19</td>\n",
       "      <td>1</td>\n",
       "    </tr>\n",
       "    <tr>\n",
       "      <th>3</th>\n",
       "      <td>ACTC1</td>\n",
       "      <td>ACTN4</td>\n",
       "      <td>5.104953e+18</td>\n",
       "      <td>1</td>\n",
       "    </tr>\n",
       "    <tr>\n",
       "      <th>4</th>\n",
       "      <td>ACTC1</td>\n",
       "      <td>ACTR2</td>\n",
       "      <td>2.449906e+18</td>\n",
       "      <td>1</td>\n",
       "    </tr>\n",
       "  </tbody>\n",
       "</table>\n",
       "</div>"
      ],
      "text/plain": [
       "  Source Target  link weight (healthy)  consensus_direction\n",
       "0  HSPB1  ACTC1           1.298498e+19                    0\n",
       "1  ACTC1   CFL1           1.040283e+19                    1\n",
       "2   CFL1  ACTC1           1.040283e+19                    1\n",
       "3  ACTC1  ACTN4           5.104953e+18                    1\n",
       "4  ACTC1  ACTR2           2.449906e+18                    1"
      ]
     },
     "execution_count": 5,
     "metadata": {},
     "output_type": "execute_result"
    }
   ],
   "source": [
    "uj.head()"
   ]
  },
  {
   "cell_type": "code",
   "execution_count": 6,
   "metadata": {},
   "outputs": [
    {
     "data": {
      "text/html": [
       "<div>\n",
       "<style scoped>\n",
       "    .dataframe tbody tr th:only-of-type {\n",
       "        vertical-align: middle;\n",
       "    }\n",
       "\n",
       "    .dataframe tbody tr th {\n",
       "        vertical-align: top;\n",
       "    }\n",
       "\n",
       "    .dataframe thead th {\n",
       "        text-align: right;\n",
       "    }\n",
       "</style>\n",
       "<table border=\"1\" class=\"dataframe\">\n",
       "  <thead>\n",
       "    <tr style=\"text-align: right;\">\n",
       "      <th></th>\n",
       "      <th>Source</th>\n",
       "      <th>Target</th>\n",
       "      <th>link weight (healthy)</th>\n",
       "      <th>consensus_direction</th>\n",
       "    </tr>\n",
       "  </thead>\n",
       "  <tbody>\n",
       "    <tr>\n",
       "      <th>0</th>\n",
       "      <td>HSPB1</td>\n",
       "      <td>ACTC1</td>\n",
       "      <td>1.298498e+19</td>\n",
       "      <td>0</td>\n",
       "    </tr>\n",
       "    <tr>\n",
       "      <th>7</th>\n",
       "      <td>HMGB1</td>\n",
       "      <td>TXN</td>\n",
       "      <td>2.233211e+18</td>\n",
       "      <td>0</td>\n",
       "    </tr>\n",
       "    <tr>\n",
       "      <th>11</th>\n",
       "      <td>EZR</td>\n",
       "      <td>ACTC1</td>\n",
       "      <td>1.030593e+18</td>\n",
       "      <td>0</td>\n",
       "    </tr>\n",
       "    <tr>\n",
       "      <th>12</th>\n",
       "      <td>LDHA</td>\n",
       "      <td>HSPA8</td>\n",
       "      <td>7.641713e+17</td>\n",
       "      <td>0</td>\n",
       "    </tr>\n",
       "    <tr>\n",
       "      <th>13</th>\n",
       "      <td>CFL1</td>\n",
       "      <td>TPI1</td>\n",
       "      <td>7.331696e+17</td>\n",
       "      <td>0</td>\n",
       "    </tr>\n",
       "  </tbody>\n",
       "</table>\n",
       "</div>"
      ],
      "text/plain": [
       "   Source Target  link weight (healthy)  consensus_direction\n",
       "0   HSPB1  ACTC1           1.298498e+19                    0\n",
       "7   HMGB1    TXN           2.233211e+18                    0\n",
       "11    EZR  ACTC1           1.030593e+18                    0\n",
       "12   LDHA  HSPA8           7.641713e+17                    0\n",
       "13   CFL1   TPI1           7.331696e+17                    0"
      ]
     },
     "execution_count": 6,
     "metadata": {},
     "output_type": "execute_result"
    }
   ],
   "source": [
    "is_zero = uj['consensus_direction'] == 0\n",
    "ud = uj[is_zero]\n",
    "ud.head()"
   ]
  },
  {
   "cell_type": "code",
   "execution_count": 10,
   "metadata": {},
   "outputs": [
    {
     "data": {
      "text/html": [
       "<div>\n",
       "<style scoped>\n",
       "    .dataframe tbody tr th:only-of-type {\n",
       "        vertical-align: middle;\n",
       "    }\n",
       "\n",
       "    .dataframe tbody tr th {\n",
       "        vertical-align: top;\n",
       "    }\n",
       "\n",
       "    .dataframe thead th {\n",
       "        text-align: right;\n",
       "    }\n",
       "</style>\n",
       "<table border=\"1\" class=\"dataframe\">\n",
       "  <thead>\n",
       "    <tr style=\"text-align: right;\">\n",
       "      <th></th>\n",
       "      <th>Source</th>\n",
       "      <th>Target</th>\n",
       "      <th>link weight (healthy)</th>\n",
       "      <th>consensus_direction</th>\n",
       "    </tr>\n",
       "  </thead>\n",
       "  <tbody>\n",
       "    <tr>\n",
       "      <th>0</th>\n",
       "      <td>HSPB1</td>\n",
       "      <td>ACTC1</td>\n",
       "      <td>1.298498e+19</td>\n",
       "      <td>0</td>\n",
       "    </tr>\n",
       "    <tr>\n",
       "      <th>1</th>\n",
       "      <td>ACTC1</td>\n",
       "      <td>CFL1</td>\n",
       "      <td>1.040283e+19</td>\n",
       "      <td>1</td>\n",
       "    </tr>\n",
       "    <tr>\n",
       "      <th>2</th>\n",
       "      <td>CFL1</td>\n",
       "      <td>ACTC1</td>\n",
       "      <td>1.040283e+19</td>\n",
       "      <td>1</td>\n",
       "    </tr>\n",
       "    <tr>\n",
       "      <th>3</th>\n",
       "      <td>ACTC1</td>\n",
       "      <td>ACTN4</td>\n",
       "      <td>5.104953e+18</td>\n",
       "      <td>1</td>\n",
       "    </tr>\n",
       "    <tr>\n",
       "      <th>4</th>\n",
       "      <td>ACTC1</td>\n",
       "      <td>ACTR2</td>\n",
       "      <td>2.449906e+18</td>\n",
       "      <td>1</td>\n",
       "    </tr>\n",
       "    <tr>\n",
       "      <th>...</th>\n",
       "      <td>...</td>\n",
       "      <td>...</td>\n",
       "      <td>...</td>\n",
       "      <td>...</td>\n",
       "    </tr>\n",
       "    <tr>\n",
       "      <th>5157</th>\n",
       "      <td>ANKLE2</td>\n",
       "      <td>PPP2R2A</td>\n",
       "      <td>3.947018e+11</td>\n",
       "      <td>0</td>\n",
       "    </tr>\n",
       "    <tr>\n",
       "      <th>5158</th>\n",
       "      <td>PKN1</td>\n",
       "      <td>MARCKS</td>\n",
       "      <td>3.936154e+11</td>\n",
       "      <td>0</td>\n",
       "    </tr>\n",
       "    <tr>\n",
       "      <th>5162</th>\n",
       "      <td>RELA</td>\n",
       "      <td>KPNA2</td>\n",
       "      <td>3.786883e+11</td>\n",
       "      <td>0</td>\n",
       "    </tr>\n",
       "    <tr>\n",
       "      <th>5171</th>\n",
       "      <td>TERF2IP</td>\n",
       "      <td>RIF1</td>\n",
       "      <td>1.774216e+11</td>\n",
       "      <td>0</td>\n",
       "    </tr>\n",
       "    <tr>\n",
       "      <th>5183</th>\n",
       "      <td>KPNA2</td>\n",
       "      <td>NR3C1</td>\n",
       "      <td>1.460395e+10</td>\n",
       "      <td>0</td>\n",
       "    </tr>\n",
       "  </tbody>\n",
       "</table>\n",
       "<p>6056 rows × 4 columns</p>\n",
       "</div>"
      ],
      "text/plain": [
       "       Source   Target  link weight (healthy)  consensus_direction\n",
       "0       HSPB1    ACTC1           1.298498e+19                    0\n",
       "1       ACTC1     CFL1           1.040283e+19                    1\n",
       "2        CFL1    ACTC1           1.040283e+19                    1\n",
       "3       ACTC1    ACTN4           5.104953e+18                    1\n",
       "4       ACTC1    ACTR2           2.449906e+18                    1\n",
       "...       ...      ...                    ...                  ...\n",
       "5157   ANKLE2  PPP2R2A           3.947018e+11                    0\n",
       "5158     PKN1   MARCKS           3.936154e+11                    0\n",
       "5162     RELA    KPNA2           3.786883e+11                    0\n",
       "5171  TERF2IP     RIF1           1.774216e+11                    0\n",
       "5183    KPNA2    NR3C1           1.460395e+10                    0\n",
       "\n",
       "[6056 rows x 4 columns]"
      ]
     },
     "execution_count": 10,
     "metadata": {},
     "output_type": "execute_result"
    }
   ],
   "source": [
    "ud = ud.rename(columns={'Source': 'Target', 'Target': 'Source'})\n",
    "új_1 = uj.append(ud)\n",
    "új_1"
   ]
  },
  {
   "cell_type": "code",
   "execution_count": 5,
   "metadata": {},
   "outputs": [
    {
     "name": "stdout",
     "output_type": "stream",
     "text": [
      "(5189, 4)\n",
      "(6056, 4)\n"
     ]
    }
   ],
   "source": [
    "print(uj.shape)\n",
    "uj_1 = uj.append(ud)\n",
    "print(uj_1.shape)"
   ]
  },
  {
   "cell_type": "code",
   "execution_count": 7,
   "metadata": {},
   "outputs": [
    {
     "name": "stdout",
     "output_type": "stream",
     "text": [
      "6056\n",
      "6056\n"
     ]
    }
   ],
   "source": [
    "tokeletes = uj_1[['Source', 'Target', 'link weight (healthy)']]\n",
    "tokeletes.head()\n",
    "print(len(tokeletes))\n",
    "\n",
    "\n",
    "is_nan = np.isnan(tokeletes['link weight (healthy)'])\n",
    "valami = tokeletes[~is_nan]\n",
    "print(len(valami))\n",
    "\n",
    "a = np.array(tokeletes['link weight (healthy)'])"
   ]
  },
  {
   "cell_type": "code",
   "execution_count": 8,
   "metadata": {},
   "outputs": [],
   "source": [
    "MG = nx.MultiDiGraph()\n",
    "MG = nx.from_pandas_edgelist(tokeletes, source = 'Source', target = 'Target', edge_attr = 'link weight (healthy)')"
   ]
  },
  {
   "cell_type": "code",
   "execution_count": 9,
   "metadata": {},
   "outputs": [],
   "source": [
    "b = np.histogram(a, 50)"
   ]
  },
  {
   "cell_type": "code",
   "execution_count": 10,
   "metadata": {},
   "outputs": [],
   "source": [
    "x, y = b"
   ]
  },
  {
   "cell_type": "code",
   "execution_count": 11,
   "metadata": {},
   "outputs": [
    {
     "data": {
      "text/plain": [
       "<BarContainer object of 50 artists>"
      ]
     },
     "execution_count": 11,
     "metadata": {},
     "output_type": "execute_result"
    },
    {
     "data": {
      "image/png": "[encoded data removed]",
      "text/plain": [
       "<Figure size 432x288 with 1 Axes>"
      ]
     },
     "metadata": {
      "needs_background": "light"
     },
     "output_type": "display_data"
    }
   ],
   "source": [
    "plt.bar(np.arange(0, 50), x)"
   ]
  },
  {
   "cell_type": "code",
   "execution_count": 12,
   "metadata": {
    "scrolled": true
   },
   "outputs": [
    {
     "data": {
      "text/plain": [
       "3.2078963435638086e+17"
      ]
     },
     "execution_count": 12,
     "metadata": {},
     "output_type": "execute_result"
    }
   ],
   "source": [
    "np.std(a)"
   ]
  },
  {
   "cell_type": "code",
   "execution_count": 13,
   "metadata": {},
   "outputs": [
    {
     "data": {
      "text/plain": [
       "2.7438167542137184e+16"
      ]
     },
     "execution_count": 13,
     "metadata": {},
     "output_type": "execute_result"
    }
   ],
   "source": [
    "np.mean(a)"
   ]
  },
  {
   "cell_type": "code",
   "execution_count": 14,
   "metadata": {},
   "outputs": [
    {
     "data": {
      "text/plain": [
       "(1.29849825e+19, 4595755264.0)"
      ]
     },
     "execution_count": 14,
     "metadata": {},
     "output_type": "execute_result"
    }
   ],
   "source": [
    "np.max(a), np.min(a)"
   ]
  },
  {
   "cell_type": "code",
   "execution_count": 15,
   "metadata": {},
   "outputs": [],
   "source": [
    "a_norm = a[a > np.mean(a) - 1 * np.std(a)][a < np.mean(a) + 1 * np.std(a)]"
   ]
  },
  {
   "cell_type": "code",
   "execution_count": 16,
   "metadata": {},
   "outputs": [
    {
     "data": {
      "text/plain": [
       "(3.267712947e+17, 4595755264.0)"
      ]
     },
     "execution_count": 16,
     "metadata": {},
     "output_type": "execute_result"
    }
   ],
   "source": [
    "np.max(a_norm), np.min(a_norm)"
   ]
  },
  {
   "cell_type": "code",
   "execution_count": 17,
   "metadata": {},
   "outputs": [
    {
     "data": {
      "text/plain": [
       "(6014, 6056)"
      ]
     },
     "execution_count": 17,
     "metadata": {},
     "output_type": "execute_result"
    }
   ],
   "source": [
    "len(a_norm), len(a)"
   ]
  },
  {
   "cell_type": "code",
   "execution_count": 18,
   "metadata": {},
   "outputs": [
    {
     "data": {
      "text/plain": [
       "<BarContainer object of 50 artists>"
      ]
     },
     "execution_count": 18,
     "metadata": {},
     "output_type": "execute_result"
    },
    {
     "data": {
      "image/png": "[encoded data removed]",
      "text/plain": [
       "<Figure size 432x288 with 1 Axes>"
      ]
     },
     "metadata": {
      "needs_background": "light"
     },
     "output_type": "display_data"
    }
   ],
   "source": [
    "plt.bar(np.arange(0, 50), x)"
   ]
  },
  {
   "cell_type": "code",
   "execution_count": 19,
   "metadata": {},
   "outputs": [
    {
     "data": {
      "text/plain": [
       "(51, 50)"
      ]
     },
     "execution_count": 19,
     "metadata": {},
     "output_type": "execute_result"
    }
   ],
   "source": [
    "len(y), len(x)"
   ]
  },
  {
   "cell_type": "code",
   "execution_count": 20,
   "metadata": {},
   "outputs": [
    {
     "data": {
      "text/plain": [
       "(array([4.305e+03, 4.340e+02, 2.500e+02, 1.610e+02, 1.350e+02, 1.080e+02,\n",
       "        7.500e+01, 8.800e+01, 6.600e+01, 3.900e+01, 4.800e+01, 3.700e+01,\n",
       "        2.200e+01, 3.600e+01, 1.900e+01, 2.400e+01, 2.100e+01, 1.600e+01,\n",
       "        5.000e+00, 6.000e+00, 3.000e+00, 7.000e+00, 1.300e+01, 9.000e+00,\n",
       "        7.000e+00, 1.000e+01, 6.000e+00, 7.000e+00, 4.000e+00, 6.000e+00,\n",
       "        6.000e+00, 1.000e+00, 2.000e+00, 0.000e+00, 0.000e+00, 4.000e+00,\n",
       "        1.000e+00, 1.000e+00, 1.000e+00, 3.000e+00, 2.000e+00, 4.000e+00,\n",
       "        2.000e+00, 2.000e+00, 1.000e+00, 2.000e+00, 4.000e+00, 5.000e+00,\n",
       "        3.000e+00, 3.000e+00]),\n",
       " array([4.59575526e+09, 6.53543040e+15, 1.30708562e+16, 1.96062820e+16,\n",
       "        2.61417078e+16, 3.26771336e+16, 3.92125594e+16, 4.57479852e+16,\n",
       "        5.22834110e+16, 5.88188368e+16, 6.53542626e+16, 7.18896884e+16,\n",
       "        7.84251142e+16, 8.49605400e+16, 9.14959658e+16, 9.80313916e+16,\n",
       "        1.04566817e+17, 1.11102243e+17, 1.17637669e+17, 1.24173095e+17,\n",
       "        1.30708521e+17, 1.37243946e+17, 1.43779372e+17, 1.50314798e+17,\n",
       "        1.56850224e+17, 1.63385650e+17, 1.69921075e+17, 1.76456501e+17,\n",
       "        1.82991927e+17, 1.89527353e+17, 1.96062779e+17, 2.02598204e+17,\n",
       "        2.09133630e+17, 2.15669056e+17, 2.22204482e+17, 2.28739908e+17,\n",
       "        2.35275333e+17, 2.41810759e+17, 2.48346185e+17, 2.54881611e+17,\n",
       "        2.61417037e+17, 2.67952462e+17, 2.74487888e+17, 2.81023314e+17,\n",
       "        2.87558740e+17, 2.94094166e+17, 3.00629591e+17, 3.07165017e+17,\n",
       "        3.13700443e+17, 3.20235869e+17, 3.26771295e+17]),\n",
       " <a list of 50 Patch objects>)"
      ]
     },
     "execution_count": 20,
     "metadata": {},
     "output_type": "execute_result"
    },
    {
     "data": {
      "image/png": "[encoded data removed]",
      "text/plain": [
       "<Figure size 432x288 with 1 Axes>"
      ]
     },
     "metadata": {
      "needs_background": "light"
     },
     "output_type": "display_data"
    }
   ],
   "source": [
    "plt.hist(a_norm, 50)"
   ]
  },
  {
   "cell_type": "code",
   "execution_count": 21,
   "metadata": {},
   "outputs": [
    {
     "data": {
      "text/plain": [
       "(array([6.023e+03, 1.800e+01, 4.000e+00, 1.000e+00, 0.000e+00, 5.000e+00,\n",
       "        0.000e+00, 0.000e+00, 0.000e+00, 0.000e+00, 0.000e+00, 1.000e+00,\n",
       "        0.000e+00, 0.000e+00, 0.000e+00, 0.000e+00, 0.000e+00, 0.000e+00,\n",
       "        0.000e+00, 0.000e+00, 0.000e+00, 0.000e+00, 0.000e+00, 0.000e+00,\n",
       "        2.000e+00, 0.000e+00, 0.000e+00, 0.000e+00, 0.000e+00, 2.000e+00]),\n",
       " array([4.59575526e+09, 4.32832754e+17, 8.65665504e+17, 1.29849825e+18,\n",
       "        1.73133100e+18, 2.16416375e+18, 2.59699650e+18, 3.02982925e+18,\n",
       "        3.46266200e+18, 3.89549475e+18, 4.32832750e+18, 4.76116025e+18,\n",
       "        5.19399300e+18, 5.62682575e+18, 6.05965850e+18, 6.49249125e+18,\n",
       "        6.92532400e+18, 7.35815675e+18, 7.79098950e+18, 8.22382225e+18,\n",
       "        8.65665500e+18, 9.08948775e+18, 9.52232050e+18, 9.95515325e+18,\n",
       "        1.03879860e+19, 1.08208188e+19, 1.12536515e+19, 1.16864843e+19,\n",
       "        1.21193170e+19, 1.25521498e+19, 1.29849825e+19]),\n",
       " <a list of 30 Patch objects>)"
      ]
     },
     "execution_count": 21,
     "metadata": {},
     "output_type": "execute_result"
    },
    {
     "data": {
      "image/png": "[encoded data removed]",
      "text/plain": [
       "<Figure size 432x288 with 1 Axes>"
      ]
     },
     "metadata": {
      "needs_background": "light"
     },
     "output_type": "display_data"
    }
   ],
   "source": [
    "plt.hist(a, 30)"
   ]
  },
  {
   "cell_type": "code",
   "execution_count": 22,
   "metadata": {},
   "outputs": [],
   "source": [
    "c = [y for x, y, in MG.degree]"
   ]
  },
  {
   "cell_type": "code",
   "execution_count": 115,
   "metadata": {},
   "outputs": [
    {
     "data": {
      "text/plain": [
       "(array([1.078e+03, 9.100e+01, 2.300e+01, 6.300e+01, 1.400e+01, 1.000e+00,\n",
       "        2.000e+00, 1.000e+00, 1.000e+00, 1.000e+00]),\n",
       " array([  1. ,  11.7,  22.4,  33.1,  43.8,  54.5,  65.2,  75.9,  86.6,\n",
       "         97.3, 108. ]),\n",
       " <a list of 10 Patch objects>)"
      ]
     },
     "execution_count": 115,
     "metadata": {},
     "output_type": "execute_result"
    },
    {
     "data": {
      "image/png": "[encoded data removed]",
      "text/plain": [
       "<Figure size 432x288 with 1 Axes>"
      ]
     },
     "metadata": {
      "needs_background": "light"
     },
     "output_type": "display_data"
    }
   ],
   "source": [
    "plt.hist(c, 20)"
   ]
  },
  {
   "cell_type": "code",
   "execution_count": 116,
   "metadata": {},
   "outputs": [],
   "source": [
    "d = nx.edge_betweenness_centrality(MG, normalized = False).values()"
   ]
  },
  {
   "cell_type": "code",
   "execution_count": 117,
   "metadata": {},
   "outputs": [],
   "source": [
    "d = np.fromiter(d, dtype = float)"
   ]
  },
  {
   "cell_type": "code",
   "execution_count": 118,
   "metadata": {},
   "outputs": [
    {
     "data": {
      "text/plain": [
       "(4366,)"
      ]
     },
     "execution_count": 118,
     "metadata": {},
     "output_type": "execute_result"
    }
   ],
   "source": [
    "d.shape"
   ]
  },
  {
   "cell_type": "code",
   "execution_count": 119,
   "metadata": {
    "scrolled": true
   },
   "outputs": [
    {
     "name": "stdout",
     "output_type": "stream",
     "text": [
      "[]\n",
      "4363\n"
     ]
    },
    {
     "data": {
      "text/plain": [
       "(array([4.071e+03, 2.290e+02, 3.700e+01, 1.300e+01, 1.000e+01, 2.000e+00,\n",
       "        1.000e+00, 0.000e+00, 1.000e+00, 1.000e+00]),\n",
       " array([1.00000000e+00, 1.95679852e+03, 3.91259704e+03, 5.86839556e+03,\n",
       "        7.82419408e+03, 9.77999260e+03, 1.17357911e+04, 1.36915896e+04,\n",
       "        1.56473882e+04, 1.76031867e+04, 1.95589852e+04]),\n",
       " <a list of 10 Patch objects>)"
      ]
     },
     "execution_count": 119,
     "metadata": {},
     "output_type": "execute_result"
    },
    {
     "data": {
      "image/png": "[encoded data removed]",
      "text/plain": [
       "<Figure size 432x288 with 1 Axes>"
      ]
     },
     "metadata": {
      "needs_background": "light"
     },
     "output_type": "display_data"
    }
   ],
   "source": [
    "#print(min(d))\n",
    "#print(max(d))\n",
    "print(d[d>100_000])\n",
    "#plt.hist(d)\n",
    "print(len(d[d<15000]))\n",
    "plt.hist(d[d < 20000])"
   ]
  },
  {
   "cell_type": "code",
   "execution_count": 30,
   "metadata": {},
   "outputs": [],
   "source": [
    "invalid_nodes = []\n",
    "for a_set in a:\n",
    "    for node in a_set:\n",
    "        invalid_nodes.append(node)"
   ]
  },
  {
   "cell_type": "code",
   "execution_count": 31,
   "metadata": {
    "scrolled": true
   },
   "outputs": [
    {
     "data": {
      "text/plain": [
       "['IDH1',\n",
       " 'IDH2',\n",
       " 'TPD52',\n",
       " 'ANXA6',\n",
       " 'ETFB',\n",
       " 'ETFA',\n",
       " 'SDHB',\n",
       " 'SDHA',\n",
       " 'COPA',\n",
       " 'TMED10',\n",
       " 'TMED2',\n",
       " 'COPB2',\n",
       " 'ERP44',\n",
       " 'LMAN1',\n",
       " 'SURF4',\n",
       " 'TMED5',\n",
       " 'HNRNPM',\n",
       " 'CDC5L',\n",
       " 'PLRG1',\n",
       " 'PAFAH1B2',\n",
       " 'PAFAH1B3',\n",
       " 'PFKM',\n",
       " 'PFKL',\n",
       " 'LSM3',\n",
       " 'LSM2',\n",
       " 'LSM1',\n",
       " 'NUDT9',\n",
       " 'GLOD4',\n",
       " 'COX7A2',\n",
       " 'COX6B1',\n",
       " 'PGRMC1',\n",
       " 'FECH',\n",
       " 'ABCB7',\n",
       " 'IDH3G',\n",
       " 'IDH3B',\n",
       " 'IDH3A',\n",
       " 'SAR1A',\n",
       " 'PREB',\n",
       " 'SUCLG1',\n",
       " 'SUCLG2',\n",
       " 'UTRN',\n",
       " 'SNTB2',\n",
       " 'SEC22B',\n",
       " 'STX5',\n",
       " 'SCFD1',\n",
       " 'ARL1',\n",
       " 'MOGS',\n",
       " 'MON2',\n",
       " 'TRMT10C',\n",
       " 'HSD17B10',\n",
       " 'RAB6A',\n",
       " 'GCC2',\n",
       " 'PFDN2',\n",
       " 'PFDN1',\n",
       " 'UBA5',\n",
       " 'UFM1',\n",
       " 'NUCB2',\n",
       " 'ERAP1',\n",
       " 'ARFGEF3',\n",
       " 'PHB2',\n",
       " 'TIMM44',\n",
       " 'PAM16',\n",
       " 'HEXA',\n",
       " 'HEXB',\n",
       " 'FARSA',\n",
       " 'FARSB',\n",
       " 'ERGIC1',\n",
       " 'ERGIC2',\n",
       " 'ERGIC3',\n",
       " 'DAD1',\n",
       " 'BCAS2',\n",
       " 'CEBPZ',\n",
       " 'COQ6',\n",
       " 'COQ9',\n",
       " 'PEX19',\n",
       " 'ABCD3',\n",
       " 'SLC25A17',\n",
       " 'COASY',\n",
       " 'EDC4',\n",
       " 'BCS1L',\n",
       " 'LETM1',\n",
       " 'NAT10',\n",
       " 'THUMPD1',\n",
       " 'SBDS',\n",
       " 'EFL1',\n",
       " 'CLPX',\n",
       " 'CLPP',\n",
       " 'DIS3',\n",
       " 'EXOSC8',\n",
       " 'GGA2',\n",
       " 'CLINT1',\n",
       " 'NOP14',\n",
       " 'EMG1']"
      ]
     },
     "execution_count": 31,
     "metadata": {},
     "output_type": "execute_result"
    }
   ],
   "source": [
    "invalid_nodes"
   ]
  },
  {
   "cell_type": "code",
   "execution_count": 32,
   "metadata": {},
   "outputs": [],
   "source": [
    "for valami in invalid_nodes:\n",
    "    MG.remove_node(valami)"
   ]
  },
  {
   "cell_type": "code",
   "execution_count": 33,
   "metadata": {},
   "outputs": [
    {
     "data": {
      "text/plain": [
       "1"
      ]
     },
     "execution_count": 33,
     "metadata": {},
     "output_type": "execute_result"
    }
   ],
   "source": [
    "nx.number_connected_components(MG)"
   ]
  },
  {
   "cell_type": "code",
   "execution_count": 34,
   "metadata": {},
   "outputs": [
    {
     "data": {
      "text/plain": [
       "4.185950419143489"
      ]
     },
     "execution_count": 34,
     "metadata": {},
     "output_type": "execute_result"
    }
   ],
   "source": [
    "nx.average_shortest_path_length(MG)"
   ]
  },
  {
   "cell_type": "code",
   "execution_count": 36,
   "metadata": {},
   "outputs": [],
   "source": [
    "hossz = nx.shortest_path_length(MG, method = 'bellman-ford')"
   ]
  },
  {
   "cell_type": "code",
   "execution_count": 37,
   "metadata": {},
   "outputs": [],
   "source": [
    "path = []\n",
    "path = [c for c in hossz]"
   ]
  },
  {
   "cell_type": "code",
   "execution_count": 42,
   "metadata": {},
   "outputs": [
    {
     "data": {
      "text/plain": [
       "(1182, 2)"
      ]
     },
     "execution_count": 42,
     "metadata": {},
     "output_type": "execute_result"
    }
   ],
   "source": [
    "np.array(path).shape"
   ]
  },
  {
   "cell_type": "code",
   "execution_count": 60,
   "metadata": {},
   "outputs": [
    {
     "data": {
      "text/plain": [
       "<function dict.values>"
      ]
     },
     "execution_count": 60,
     "metadata": {},
     "output_type": "execute_result"
    }
   ],
   "source": [
    "path[99][1].values"
   ]
  },
  {
   "cell_type": "code",
   "execution_count": 68,
   "metadata": {},
   "outputs": [],
   "source": [
    "length = []\n",
    "for name, l in path:\n",
    "    for key in l:\n",
    "        length.append(l[key])"
   ]
  },
  {
   "cell_type": "code",
   "execution_count": 72,
   "metadata": {},
   "outputs": [],
   "source": [
    "length = np.array(length)"
   ]
  },
  {
   "cell_type": "code",
   "execution_count": 73,
   "metadata": {},
   "outputs": [
    {
     "data": {
      "text/plain": [
       "(array([9.91400e+03, 7.60600e+04, 3.42276e+05, 7.75670e+05, 1.26128e+05,\n",
       "        4.32300e+04, 2.12580e+04, 1.94400e+03, 5.16000e+02, 1.28000e+02]),\n",
       " array([ 0. ,  1.3,  2.6,  3.9,  5.2,  6.5,  7.8,  9.1, 10.4, 11.7, 13. ]),\n",
       " <a list of 10 Patch objects>)"
      ]
     },
     "execution_count": 73,
     "metadata": {},
     "output_type": "execute_result"
    },
    {
     "data": {
      "image/png": "[encoded data removed]",
      "text/plain": [
       "<Figure size 432x288 with 1 Axes>"
      ]
     },
     "metadata": {
      "needs_background": "light"
     },
     "output_type": "display_data"
    }
   ],
   "source": [
    "plt.hist(length)"
   ]
  },
  {
   "cell_type": "code",
   "execution_count": 2,
   "metadata": {},
   "outputs": [],
   "source": [
    "df = pd.read_excel('omnipath_cytoscape.xlsx', sheet_name = 'Sensitive.')"
   ]
  },
  {
   "cell_type": "code",
   "execution_count": 4,
   "metadata": {},
   "outputs": [
    {
     "data": {
      "text/html": [
       "<div>\n",
       "<style scoped>\n",
       "    .dataframe tbody tr th:only-of-type {\n",
       "        vertical-align: middle;\n",
       "    }\n",
       "\n",
       "    .dataframe tbody tr th {\n",
       "        vertical-align: top;\n",
       "    }\n",
       "\n",
       "    .dataframe thead th {\n",
       "        text-align: right;\n",
       "    }\n",
       "</style>\n",
       "<table border=\"1\" class=\"dataframe\">\n",
       "  <thead>\n",
       "    <tr style=\"text-align: right;\">\n",
       "      <th></th>\n",
       "      <th>Name_source</th>\n",
       "      <th>Uniprot_source</th>\n",
       "      <th>Name_target</th>\n",
       "      <th>Uniprot_target</th>\n",
       "      <th>Link weight (sensitive)</th>\n",
       "      <th>1/Link weight(sensitive</th>\n",
       "      <th>1/Link weight(sensitive) *10000000</th>\n",
       "      <th>Link_weight_s_EntOpt</th>\n",
       "      <th>consensus_direction</th>\n",
       "      <th>consensus_inhibition</th>\n",
       "      <th>consensus_stimulation</th>\n",
       "      <th>Link weight (sensitive).1</th>\n",
       "    </tr>\n",
       "  </thead>\n",
       "  <tbody>\n",
       "    <tr>\n",
       "      <th>0</th>\n",
       "      <td>P09874</td>\n",
       "      <td>PARP1</td>\n",
       "      <td>P62805</td>\n",
       "      <td>HIST1H4L</td>\n",
       "      <td>2.438437e+13</td>\n",
       "      <td>4.100988e-14</td>\n",
       "      <td>4.100988e-07</td>\n",
       "      <td>1.000000</td>\n",
       "      <td>1</td>\n",
       "      <td>0</td>\n",
       "      <td>1</td>\n",
       "      <td>2.438437e+13</td>\n",
       "    </tr>\n",
       "    <tr>\n",
       "      <th>1</th>\n",
       "      <td>P07900</td>\n",
       "      <td>HSP90AA1</td>\n",
       "      <td>P10809</td>\n",
       "      <td>HSPD1</td>\n",
       "      <td>2.214851e+13</td>\n",
       "      <td>4.514976e-14</td>\n",
       "      <td>4.514976e-07</td>\n",
       "      <td>0.908308</td>\n",
       "      <td>1</td>\n",
       "      <td>0</td>\n",
       "      <td>1</td>\n",
       "      <td>2.214851e+13</td>\n",
       "    </tr>\n",
       "    <tr>\n",
       "      <th>2</th>\n",
       "      <td>P61604</td>\n",
       "      <td>HSPE1</td>\n",
       "      <td>P10809</td>\n",
       "      <td>HSPD1</td>\n",
       "      <td>1.348731e+13</td>\n",
       "      <td>7.414378e-14</td>\n",
       "      <td>7.414378e-07</td>\n",
       "      <td>0.553113</td>\n",
       "      <td>1</td>\n",
       "      <td>1</td>\n",
       "      <td>0</td>\n",
       "      <td>1.348731e+13</td>\n",
       "    </tr>\n",
       "    <tr>\n",
       "      <th>3</th>\n",
       "      <td>P04406</td>\n",
       "      <td>GAPDH</td>\n",
       "      <td>P60709</td>\n",
       "      <td>ACTB</td>\n",
       "      <td>1.224016e+13</td>\n",
       "      <td>8.169826e-14</td>\n",
       "      <td>8.169826e-07</td>\n",
       "      <td>0.501968</td>\n",
       "      <td>0</td>\n",
       "      <td>0</td>\n",
       "      <td>0</td>\n",
       "      <td>1.224016e+13</td>\n",
       "    </tr>\n",
       "    <tr>\n",
       "      <th>4</th>\n",
       "      <td>P00558</td>\n",
       "      <td>PGK1</td>\n",
       "      <td>P04406</td>\n",
       "      <td>GAPDH</td>\n",
       "      <td>1.179972e+13</td>\n",
       "      <td>8.474774e-14</td>\n",
       "      <td>8.474774e-07</td>\n",
       "      <td>0.483905</td>\n",
       "      <td>0</td>\n",
       "      <td>0</td>\n",
       "      <td>0</td>\n",
       "      <td>1.179972e+13</td>\n",
       "    </tr>\n",
       "  </tbody>\n",
       "</table>\n",
       "</div>"
      ],
      "text/plain": [
       "  Name_source Uniprot_source Name_target Uniprot_target  \\\n",
       "0      P09874          PARP1      P62805       HIST1H4L   \n",
       "1      P07900       HSP90AA1      P10809          HSPD1   \n",
       "2      P61604          HSPE1      P10809          HSPD1   \n",
       "3      P04406          GAPDH      P60709           ACTB   \n",
       "4      P00558           PGK1      P04406          GAPDH   \n",
       "\n",
       "   Link weight (sensitive)  1/Link weight(sensitive  \\\n",
       "0             2.438437e+13             4.100988e-14   \n",
       "1             2.214851e+13             4.514976e-14   \n",
       "2             1.348731e+13             7.414378e-14   \n",
       "3             1.224016e+13             8.169826e-14   \n",
       "4             1.179972e+13             8.474774e-14   \n",
       "\n",
       "   1/Link weight(sensitive) *10000000  Link_weight_s_EntOpt  \\\n",
       "0                        4.100988e-07              1.000000   \n",
       "1                        4.514976e-07              0.908308   \n",
       "2                        7.414378e-07              0.553113   \n",
       "3                        8.169826e-07              0.501968   \n",
       "4                        8.474774e-07              0.483905   \n",
       "\n",
       "   consensus_direction  consensus_inhibition  consensus_stimulation  \\\n",
       "0                    1                     0                      1   \n",
       "1                    1                     0                      1   \n",
       "2                    1                     1                      0   \n",
       "3                    0                     0                      0   \n",
       "4                    0                     0                      0   \n",
       "\n",
       "   Link weight (sensitive).1  \n",
       "0               2.438437e+13  \n",
       "1               2.214851e+13  \n",
       "2               1.348731e+13  \n",
       "3               1.224016e+13  \n",
       "4               1.179972e+13  "
      ]
     },
     "execution_count": 4,
     "metadata": {},
     "output_type": "execute_result"
    }
   ],
   "source": [
    "df.head()"
   ]
  },
  {
   "cell_type": "code",
   "execution_count": null,
   "metadata": {},
   "outputs": [],
   "source": []
  }
 ],
 "metadata": {
  "kernelspec": {
   "display_name": "Python 3",
   "language": "python",
   "name": "python3"
  },
  "language_info": {
   "codemirror_mode": {
    "name": "ipython",
    "version": 3
   },
   "file_extension": ".py",
   "mimetype": "text/x-python",
   "name": "python",
   "nbconvert_exporter": "python",
   "pygments_lexer": "ipython3",
   "version": "3.7.6"
  }
 },
 "nbformat": 4,
 "nbformat_minor": 4
}
